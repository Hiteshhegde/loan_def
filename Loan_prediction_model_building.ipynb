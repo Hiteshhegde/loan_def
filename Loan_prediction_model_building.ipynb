{
 "cells": [
  {
   "cell_type": "markdown",
   "id": "daac1512",
   "metadata": {},
   "source": [
    "## Building the model to predict the Loan Status"
   ]
  },
  {
   "cell_type": "markdown",
   "id": "fa3d9cc2",
   "metadata": {},
   "source": [
    "### Importing neccesary libraries "
   ]
  },
  {
   "cell_type": "code",
   "execution_count": 1,
   "id": "8abaead1",
   "metadata": {},
   "outputs": [],
   "source": [
    "import pandas as pd\n",
    "import numpy as np\n",
    "import seaborn as sns\n",
    "import matplotlib.pyplot as plt\n",
    "from sklearn.model_selection import train_test_split\n",
    "from sklearn.linear_model import LogisticRegression\n",
    "from sklearn import metrics\n",
    "from sklearn.preprocessing import MinMaxScaler\n",
    "from sklearn.model_selection import cross_val_score\n",
    "from sklearn.model_selection import RepeatedStratifiedKFold\n",
    "from sklearn.ensemble import RandomForestClassifier\n",
    "from sklearn.linear_model import LogisticRegression\n",
    "from sklearn.neighbors import KNeighborsClassifier\n",
    "from sklearn.svm import SVC\n",
    "from sklearn.tree import DecisionTreeClassifier\n",
    "from sklearn.metrics import precision_score, recall_score, f1_score, log_loss, accuracy_score"
   ]
  },
  {
   "cell_type": "markdown",
   "id": "21ffa039",
   "metadata": {},
   "source": [
    "Reading data from csv file and converting it to dataframe"
   ]
  },
  {
   "cell_type": "code",
   "execution_count": 2,
   "id": "fc4aea66",
   "metadata": {},
   "outputs": [],
   "source": [
    "data = pd.read_csv('Processed_Data.csv')\n",
    "df = pd.DataFrame(data)"
   ]
  },
  {
   "cell_type": "code",
   "execution_count": 3,
   "id": "02fb2370",
   "metadata": {},
   "outputs": [
    {
     "data": {
      "text/html": [
       "<div>\n",
       "<style scoped>\n",
       "    .dataframe tbody tr th:only-of-type {\n",
       "        vertical-align: middle;\n",
       "    }\n",
       "\n",
       "    .dataframe tbody tr th {\n",
       "        vertical-align: top;\n",
       "    }\n",
       "\n",
       "    .dataframe thead th {\n",
       "        text-align: right;\n",
       "    }\n",
       "</style>\n",
       "<table border=\"1\" class=\"dataframe\">\n",
       "  <thead>\n",
       "    <tr style=\"text-align: right;\">\n",
       "      <th></th>\n",
       "      <th>Gender</th>\n",
       "      <th>Married</th>\n",
       "      <th>Dependents</th>\n",
       "      <th>Education</th>\n",
       "      <th>Self_Employed</th>\n",
       "      <th>Property_Area</th>\n",
       "      <th>Loan_Status</th>\n",
       "      <th>ApplicantIncome</th>\n",
       "      <th>CoapplicantIncome</th>\n",
       "      <th>LoanAmount</th>\n",
       "      <th>Loan_Amount_Term</th>\n",
       "      <th>Credit_History</th>\n",
       "    </tr>\n",
       "  </thead>\n",
       "  <tbody>\n",
       "    <tr>\n",
       "      <th>0</th>\n",
       "      <td>1</td>\n",
       "      <td>0</td>\n",
       "      <td>0</td>\n",
       "      <td>0</td>\n",
       "      <td>0</td>\n",
       "      <td>2</td>\n",
       "      <td>1</td>\n",
       "      <td>5849.0</td>\n",
       "      <td>0.0</td>\n",
       "      <td>146.412162</td>\n",
       "      <td>360.0</td>\n",
       "      <td>1</td>\n",
       "    </tr>\n",
       "    <tr>\n",
       "      <th>1</th>\n",
       "      <td>1</td>\n",
       "      <td>1</td>\n",
       "      <td>1</td>\n",
       "      <td>0</td>\n",
       "      <td>0</td>\n",
       "      <td>0</td>\n",
       "      <td>0</td>\n",
       "      <td>4583.0</td>\n",
       "      <td>1508.0</td>\n",
       "      <td>128.000000</td>\n",
       "      <td>360.0</td>\n",
       "      <td>1</td>\n",
       "    </tr>\n",
       "    <tr>\n",
       "      <th>2</th>\n",
       "      <td>1</td>\n",
       "      <td>1</td>\n",
       "      <td>0</td>\n",
       "      <td>0</td>\n",
       "      <td>1</td>\n",
       "      <td>2</td>\n",
       "      <td>1</td>\n",
       "      <td>3000.0</td>\n",
       "      <td>0.0</td>\n",
       "      <td>66.000000</td>\n",
       "      <td>360.0</td>\n",
       "      <td>1</td>\n",
       "    </tr>\n",
       "    <tr>\n",
       "      <th>3</th>\n",
       "      <td>1</td>\n",
       "      <td>1</td>\n",
       "      <td>0</td>\n",
       "      <td>1</td>\n",
       "      <td>0</td>\n",
       "      <td>2</td>\n",
       "      <td>1</td>\n",
       "      <td>2583.0</td>\n",
       "      <td>2358.0</td>\n",
       "      <td>120.000000</td>\n",
       "      <td>360.0</td>\n",
       "      <td>1</td>\n",
       "    </tr>\n",
       "    <tr>\n",
       "      <th>4</th>\n",
       "      <td>1</td>\n",
       "      <td>0</td>\n",
       "      <td>0</td>\n",
       "      <td>0</td>\n",
       "      <td>0</td>\n",
       "      <td>2</td>\n",
       "      <td>1</td>\n",
       "      <td>6000.0</td>\n",
       "      <td>0.0</td>\n",
       "      <td>141.000000</td>\n",
       "      <td>360.0</td>\n",
       "      <td>1</td>\n",
       "    </tr>\n",
       "  </tbody>\n",
       "</table>\n",
       "</div>"
      ],
      "text/plain": [
       "   Gender  Married  Dependents  Education  Self_Employed  Property_Area  \\\n",
       "0       1        0           0          0              0              2   \n",
       "1       1        1           1          0              0              0   \n",
       "2       1        1           0          0              1              2   \n",
       "3       1        1           0          1              0              2   \n",
       "4       1        0           0          0              0              2   \n",
       "\n",
       "   Loan_Status  ApplicantIncome  CoapplicantIncome  LoanAmount  \\\n",
       "0            1           5849.0                0.0  146.412162   \n",
       "1            0           4583.0             1508.0  128.000000   \n",
       "2            1           3000.0                0.0   66.000000   \n",
       "3            1           2583.0             2358.0  120.000000   \n",
       "4            1           6000.0                0.0  141.000000   \n",
       "\n",
       "   Loan_Amount_Term  Credit_History  \n",
       "0             360.0               1  \n",
       "1             360.0               1  \n",
       "2             360.0               1  \n",
       "3             360.0               1  \n",
       "4             360.0               1  "
      ]
     },
     "execution_count": 3,
     "metadata": {},
     "output_type": "execute_result"
    }
   ],
   "source": [
    "df.head()"
   ]
  },
  {
   "cell_type": "markdown",
   "id": "bfeaf06b",
   "metadata": {},
   "source": [
    "Dividing the training data into features and target variables"
   ]
  },
  {
   "cell_type": "code",
   "execution_count": 4,
   "id": "645f2b36",
   "metadata": {},
   "outputs": [],
   "source": [
    "##Training data\n",
    "X = df.drop('Loan_Status',axis=1)#Features\n",
    "y = df['Loan_Status']#Target"
   ]
  },
  {
   "cell_type": "code",
   "execution_count": 5,
   "id": "a5dc946d",
   "metadata": {},
   "outputs": [
    {
     "data": {
      "text/html": [
       "<div>\n",
       "<style scoped>\n",
       "    .dataframe tbody tr th:only-of-type {\n",
       "        vertical-align: middle;\n",
       "    }\n",
       "\n",
       "    .dataframe tbody tr th {\n",
       "        vertical-align: top;\n",
       "    }\n",
       "\n",
       "    .dataframe thead th {\n",
       "        text-align: right;\n",
       "    }\n",
       "</style>\n",
       "<table border=\"1\" class=\"dataframe\">\n",
       "  <thead>\n",
       "    <tr style=\"text-align: right;\">\n",
       "      <th></th>\n",
       "      <th>Gender</th>\n",
       "      <th>Married</th>\n",
       "      <th>Dependents</th>\n",
       "      <th>Education</th>\n",
       "      <th>Self_Employed</th>\n",
       "      <th>Property_Area</th>\n",
       "      <th>ApplicantIncome</th>\n",
       "      <th>CoapplicantIncome</th>\n",
       "      <th>LoanAmount</th>\n",
       "      <th>Loan_Amount_Term</th>\n",
       "      <th>Credit_History</th>\n",
       "    </tr>\n",
       "  </thead>\n",
       "  <tbody>\n",
       "    <tr>\n",
       "      <th>0</th>\n",
       "      <td>1</td>\n",
       "      <td>0</td>\n",
       "      <td>0</td>\n",
       "      <td>0</td>\n",
       "      <td>0</td>\n",
       "      <td>2</td>\n",
       "      <td>5849.0</td>\n",
       "      <td>0.0</td>\n",
       "      <td>146.412162</td>\n",
       "      <td>360.0</td>\n",
       "      <td>1</td>\n",
       "    </tr>\n",
       "    <tr>\n",
       "      <th>1</th>\n",
       "      <td>1</td>\n",
       "      <td>1</td>\n",
       "      <td>1</td>\n",
       "      <td>0</td>\n",
       "      <td>0</td>\n",
       "      <td>0</td>\n",
       "      <td>4583.0</td>\n",
       "      <td>1508.0</td>\n",
       "      <td>128.000000</td>\n",
       "      <td>360.0</td>\n",
       "      <td>1</td>\n",
       "    </tr>\n",
       "    <tr>\n",
       "      <th>2</th>\n",
       "      <td>1</td>\n",
       "      <td>1</td>\n",
       "      <td>0</td>\n",
       "      <td>0</td>\n",
       "      <td>1</td>\n",
       "      <td>2</td>\n",
       "      <td>3000.0</td>\n",
       "      <td>0.0</td>\n",
       "      <td>66.000000</td>\n",
       "      <td>360.0</td>\n",
       "      <td>1</td>\n",
       "    </tr>\n",
       "    <tr>\n",
       "      <th>3</th>\n",
       "      <td>1</td>\n",
       "      <td>1</td>\n",
       "      <td>0</td>\n",
       "      <td>1</td>\n",
       "      <td>0</td>\n",
       "      <td>2</td>\n",
       "      <td>2583.0</td>\n",
       "      <td>2358.0</td>\n",
       "      <td>120.000000</td>\n",
       "      <td>360.0</td>\n",
       "      <td>1</td>\n",
       "    </tr>\n",
       "    <tr>\n",
       "      <th>4</th>\n",
       "      <td>1</td>\n",
       "      <td>0</td>\n",
       "      <td>0</td>\n",
       "      <td>0</td>\n",
       "      <td>0</td>\n",
       "      <td>2</td>\n",
       "      <td>6000.0</td>\n",
       "      <td>0.0</td>\n",
       "      <td>141.000000</td>\n",
       "      <td>360.0</td>\n",
       "      <td>1</td>\n",
       "    </tr>\n",
       "  </tbody>\n",
       "</table>\n",
       "</div>"
      ],
      "text/plain": [
       "   Gender  Married  Dependents  Education  Self_Employed  Property_Area  \\\n",
       "0       1        0           0          0              0              2   \n",
       "1       1        1           1          0              0              0   \n",
       "2       1        1           0          0              1              2   \n",
       "3       1        1           0          1              0              2   \n",
       "4       1        0           0          0              0              2   \n",
       "\n",
       "   ApplicantIncome  CoapplicantIncome  LoanAmount  Loan_Amount_Term  \\\n",
       "0           5849.0                0.0  146.412162             360.0   \n",
       "1           4583.0             1508.0  128.000000             360.0   \n",
       "2           3000.0                0.0   66.000000             360.0   \n",
       "3           2583.0             2358.0  120.000000             360.0   \n",
       "4           6000.0                0.0  141.000000             360.0   \n",
       "\n",
       "   Credit_History  \n",
       "0               1  \n",
       "1               1  \n",
       "2               1  \n",
       "3               1  \n",
       "4               1  "
      ]
     },
     "execution_count": 5,
     "metadata": {},
     "output_type": "execute_result"
    }
   ],
   "source": [
    "X.head()"
   ]
  },
  {
   "cell_type": "code",
   "execution_count": 6,
   "id": "e4808745",
   "metadata": {},
   "outputs": [
    {
     "data": {
      "text/plain": [
       "0    1\n",
       "1    0\n",
       "2    1\n",
       "3    1\n",
       "4    1\n",
       "Name: Loan_Status, dtype: int64"
      ]
     },
     "execution_count": 6,
     "metadata": {},
     "output_type": "execute_result"
    }
   ],
   "source": [
    "y.head()"
   ]
  },
  {
   "cell_type": "markdown",
   "id": "3c390c31",
   "metadata": {},
   "source": [
    "Splitting the data into train and test splits using sklearn train_test_split"
   ]
  },
  {
   "cell_type": "code",
   "execution_count": 7,
   "id": "26748028",
   "metadata": {},
   "outputs": [],
   "source": [
    "#Split data into train and test datasets \n",
    "X_train, X_test, y_train, y_test = train_test_split(X, y, test_size=0.25, random_state=4)"
   ]
  },
  {
   "cell_type": "code",
   "execution_count": 8,
   "id": "27137304",
   "metadata": {},
   "outputs": [
    {
     "data": {
      "text/html": [
       "<div>\n",
       "<style scoped>\n",
       "    .dataframe tbody tr th:only-of-type {\n",
       "        vertical-align: middle;\n",
       "    }\n",
       "\n",
       "    .dataframe tbody tr th {\n",
       "        vertical-align: top;\n",
       "    }\n",
       "\n",
       "    .dataframe thead th {\n",
       "        text-align: right;\n",
       "    }\n",
       "</style>\n",
       "<table border=\"1\" class=\"dataframe\">\n",
       "  <thead>\n",
       "    <tr style=\"text-align: right;\">\n",
       "      <th></th>\n",
       "      <th>Gender</th>\n",
       "      <th>Married</th>\n",
       "      <th>Dependents</th>\n",
       "      <th>Education</th>\n",
       "      <th>Self_Employed</th>\n",
       "      <th>Property_Area</th>\n",
       "      <th>ApplicantIncome</th>\n",
       "      <th>CoapplicantIncome</th>\n",
       "      <th>LoanAmount</th>\n",
       "      <th>Loan_Amount_Term</th>\n",
       "      <th>Credit_History</th>\n",
       "    </tr>\n",
       "  </thead>\n",
       "  <tbody>\n",
       "    <tr>\n",
       "      <th>442</th>\n",
       "      <td>1</td>\n",
       "      <td>0</td>\n",
       "      <td>3</td>\n",
       "      <td>1</td>\n",
       "      <td>0</td>\n",
       "      <td>1</td>\n",
       "      <td>4707.0</td>\n",
       "      <td>1993.0</td>\n",
       "      <td>148.0</td>\n",
       "      <td>360.0</td>\n",
       "      <td>1</td>\n",
       "    </tr>\n",
       "    <tr>\n",
       "      <th>306</th>\n",
       "      <td>0</td>\n",
       "      <td>0</td>\n",
       "      <td>0</td>\n",
       "      <td>0</td>\n",
       "      <td>0</td>\n",
       "      <td>0</td>\n",
       "      <td>3762.0</td>\n",
       "      <td>1666.0</td>\n",
       "      <td>135.0</td>\n",
       "      <td>360.0</td>\n",
       "      <td>1</td>\n",
       "    </tr>\n",
       "    <tr>\n",
       "      <th>276</th>\n",
       "      <td>1</td>\n",
       "      <td>1</td>\n",
       "      <td>0</td>\n",
       "      <td>0</td>\n",
       "      <td>0</td>\n",
       "      <td>1</td>\n",
       "      <td>3993.0</td>\n",
       "      <td>3274.0</td>\n",
       "      <td>207.0</td>\n",
       "      <td>360.0</td>\n",
       "      <td>1</td>\n",
       "    </tr>\n",
       "    <tr>\n",
       "      <th>555</th>\n",
       "      <td>1</td>\n",
       "      <td>1</td>\n",
       "      <td>1</td>\n",
       "      <td>0</td>\n",
       "      <td>0</td>\n",
       "      <td>1</td>\n",
       "      <td>5468.0</td>\n",
       "      <td>1032.0</td>\n",
       "      <td>26.0</td>\n",
       "      <td>360.0</td>\n",
       "      <td>1</td>\n",
       "    </tr>\n",
       "    <tr>\n",
       "      <th>404</th>\n",
       "      <td>0</td>\n",
       "      <td>0</td>\n",
       "      <td>0</td>\n",
       "      <td>0</td>\n",
       "      <td>1</td>\n",
       "      <td>0</td>\n",
       "      <td>7441.0</td>\n",
       "      <td>0.0</td>\n",
       "      <td>194.0</td>\n",
       "      <td>360.0</td>\n",
       "      <td>1</td>\n",
       "    </tr>\n",
       "  </tbody>\n",
       "</table>\n",
       "</div>"
      ],
      "text/plain": [
       "     Gender  Married  Dependents  Education  Self_Employed  Property_Area  \\\n",
       "442       1        0           3          1              0              1   \n",
       "306       0        0           0          0              0              0   \n",
       "276       1        1           0          0              0              1   \n",
       "555       1        1           1          0              0              1   \n",
       "404       0        0           0          0              1              0   \n",
       "\n",
       "     ApplicantIncome  CoapplicantIncome  LoanAmount  Loan_Amount_Term  \\\n",
       "442           4707.0             1993.0       148.0             360.0   \n",
       "306           3762.0             1666.0       135.0             360.0   \n",
       "276           3993.0             3274.0       207.0             360.0   \n",
       "555           5468.0             1032.0        26.0             360.0   \n",
       "404           7441.0                0.0       194.0             360.0   \n",
       "\n",
       "     Credit_History  \n",
       "442               1  \n",
       "306               1  \n",
       "276               1  \n",
       "555               1  \n",
       "404               1  "
      ]
     },
     "execution_count": 8,
     "metadata": {},
     "output_type": "execute_result"
    }
   ],
   "source": [
    "X_train.head()"
   ]
  },
  {
   "cell_type": "code",
   "execution_count": 9,
   "id": "0d85409a",
   "metadata": {},
   "outputs": [
    {
     "data": {
      "text/plain": [
       "442    1\n",
       "306    1\n",
       "276    1\n",
       "555    1\n",
       "404    0\n",
       "      ..\n",
       "599    1\n",
       "360    0\n",
       "439    1\n",
       "174    0\n",
       "122    1\n",
       "Name: Loan_Status, Length: 460, dtype: int64"
      ]
     },
     "execution_count": 9,
     "metadata": {},
     "output_type": "execute_result"
    }
   ],
   "source": [
    "y_train"
   ]
  },
  {
   "cell_type": "markdown",
   "id": "47588cc3",
   "metadata": {},
   "source": [
    "#### Logistic Regression model without normalizing the data"
   ]
  },
  {
   "cell_type": "code",
   "execution_count": 10,
   "id": "48cee1c7",
   "metadata": {},
   "outputs": [],
   "source": [
    "#Development and Prediction\n",
    "#Logistic Regrssion\n",
    "lr = LogisticRegression()\n",
    "\n",
    "#Fit the data\n",
    "lr.fit(X_train,y_train)\n",
    "\n",
    "#predict using test data\n",
    "y_predicted = lr.predict(X_test)"
   ]
  },
  {
   "cell_type": "markdown",
   "id": "fd68812f",
   "metadata": {},
   "source": [
    "Evaluation using Confusion Matrix"
   ]
  },
  {
   "cell_type": "code",
   "execution_count": 11,
   "id": "d16081ea",
   "metadata": {},
   "outputs": [
    {
     "data": {
      "text/plain": [
       "array([[17, 36],\n",
       "       [ 6, 95]], dtype=int64)"
      ]
     },
     "execution_count": 11,
     "metadata": {},
     "output_type": "execute_result"
    }
   ],
   "source": [
    "#confusion matrix\n",
    "matrix = metrics.confusion_matrix(y_test, y_predicted)\n",
    "matrix"
   ]
  },
  {
   "cell_type": "markdown",
   "id": "d21cb035",
   "metadata": {},
   "source": [
    "Visualizing Confusion Matrix "
   ]
  },
  {
   "cell_type": "code",
   "execution_count": 12,
   "id": "0edfbdfe",
   "metadata": {},
   "outputs": [
    {
     "data": {
      "text/plain": [
       "Text(0.5, 257.44, 'Predicted label')"
      ]
     },
     "execution_count": 12,
     "metadata": {},
     "output_type": "execute_result"
    },
    {
     "data": {
      "image/png": "[encoded data removed]",
      "text/plain": [
       "<Figure size 432x288 with 2 Axes>"
      ]
     },
     "metadata": {
      "needs_background": "light"
     },
     "output_type": "display_data"
    }
   ],
   "source": [
    "class_names=[0,1] # name  of classes\n",
    "fig, ax = plt.subplots()\n",
    "tick_marks = np.arange(len(class_names))\n",
    "plt.xticks(tick_marks, class_names)\n",
    "plt.yticks(tick_marks, class_names)\n",
    "# create heatmap\n",
    "sns.heatmap(pd.DataFrame(matrix), annot=True, cmap=\"YlGnBu\" ,fmt='g')\n",
    "ax.xaxis.set_label_position(\"top\")\n",
    "plt.tight_layout()\n",
    "plt.title('Confusion matrix', y=1.1)\n",
    "plt.ylabel('Actual label')\n",
    "plt.xlabel('Predicted label')"
   ]
  },
  {
   "cell_type": "markdown",
   "id": "1a546924",
   "metadata": {},
   "source": [
    "Confusion Matrix Evaluation Metrics"
   ]
  },
  {
   "cell_type": "code",
   "execution_count": 13,
   "id": "2dcdc7d1",
   "metadata": {},
   "outputs": [
    {
     "name": "stdout",
     "output_type": "stream",
     "text": [
      "Accuracy: 0.7272727272727273\n",
      "Precision: 0.7251908396946565\n",
      "Recall: 0.9405940594059405\n"
     ]
    }
   ],
   "source": [
    "print(\"Accuracy:\",metrics.accuracy_score(y_test, y_predicted))\n",
    "print(\"Precision:\",metrics.precision_score(y_test, y_predicted))\n",
    "print(\"Recall:\",metrics.recall_score(y_test, y_predicted))"
   ]
  },
  {
   "cell_type": "markdown",
   "id": "430ff23a",
   "metadata": {},
   "source": [
    "ROC Curve"
   ]
  },
  {
   "cell_type": "code",
   "execution_count": 14,
   "id": "bde0b9f6",
   "metadata": {},
   "outputs": [
    {
     "data": {
      "image/png": "[encoded data removed]",
      "text/plain": [
       "<Figure size 432x288 with 1 Axes>"
      ]
     },
     "metadata": {
      "needs_background": "light"
     },
     "output_type": "display_data"
    }
   ],
   "source": [
    "y_pred_proba = lr.predict_proba(X_test)[::,1]\n",
    "fpr, tpr, _ = metrics.roc_curve(y_test,  y_pred_proba)\n",
    "auc = metrics.roc_auc_score(y_test, y_pred_proba)\n",
    "plt.plot(fpr,tpr,label=\"data 1, auc=\"+str(auc))\n",
    "plt.legend(loc=4)\n",
    "plt.show()"
   ]
  },
  {
   "cell_type": "markdown",
   "id": "4f834eeb",
   "metadata": {},
   "source": [
    "AUC score for the case is 0.70 . Not a great score."
   ]
  },
  {
   "cell_type": "markdown",
   "id": "f45c54c6",
   "metadata": {},
   "source": [
    "#### Normalizing data for better results, Trying again with the Logistic regression"
   ]
  },
  {
   "cell_type": "code",
   "execution_count": 26,
   "id": "132f500f",
   "metadata": {},
   "outputs": [],
   "source": [
    "#Normalizing data \n",
    "scaler = MinMaxScaler(feature_range = (0,1))\n",
    "scaler.fit(X_train)\n",
    "\n",
    "scaler.fit(X_train)\n",
    "X_train = scaler.transform(X_train)\n",
    "X_test = scaler.transform(X_test)"
   ]
  },
  {
   "cell_type": "markdown",
   "id": "ecec5d6e",
   "metadata": {},
   "source": [
    "Applying Logistic Regression "
   ]
  },
  {
   "cell_type": "code",
   "execution_count": 16,
   "id": "4d947626",
   "metadata": {},
   "outputs": [],
   "source": [
    "lr = LogisticRegression()\n",
    "\n",
    "lr.fit(X_train,y_train)\n",
    "\n",
    "y_predicted = lr.predict(X_test)"
   ]
  },
  {
   "cell_type": "markdown",
   "id": "0a931020",
   "metadata": {},
   "source": [
    "Evaluation using Confusion Matrix"
   ]
  },
  {
   "cell_type": "code",
   "execution_count": 17,
   "id": "b1620ad4",
   "metadata": {},
   "outputs": [
    {
     "data": {
      "text/plain": [
       "array([[23, 30],\n",
       "       [ 7, 94]], dtype=int64)"
      ]
     },
     "execution_count": 17,
     "metadata": {},
     "output_type": "execute_result"
    }
   ],
   "source": [
    "c_m = metrics.confusion_matrix(y_test, y_predicted)\n",
    "c_m"
   ]
  },
  {
   "cell_type": "markdown",
   "id": "50cd85c9",
   "metadata": {},
   "source": [
    "\n",
    "Confusion Matrix Evaluation Metrics"
   ]
  },
  {
   "cell_type": "code",
   "execution_count": 18,
   "id": "16a573be",
   "metadata": {
    "scrolled": true
   },
   "outputs": [
    {
     "name": "stdout",
     "output_type": "stream",
     "text": [
      "Accuracy: 0.7597402597402597\n",
      "Precision: 0.7580645161290323\n",
      "Recall: 0.9306930693069307\n"
     ]
    }
   ],
   "source": [
    "print(\"Accuracy:\",metrics.accuracy_score(y_test, y_predicted))\n",
    "print(\"Precision:\",metrics.precision_score(y_test, y_predicted))\n",
    "print(\"Recall:\",metrics.recall_score(y_test, y_predicted))"
   ]
  },
  {
   "cell_type": "markdown",
   "id": "7ddaa66d",
   "metadata": {},
   "source": [
    "ROC Curve"
   ]
  },
  {
   "cell_type": "code",
   "execution_count": 19,
   "id": "6178933e",
   "metadata": {},
   "outputs": [
    {
     "data": {
      "image/png": "[encoded data removed]",
      "text/plain": [
       "<Figure size 432x288 with 1 Axes>"
      ]
     },
     "metadata": {
      "needs_background": "light"
     },
     "output_type": "display_data"
    }
   ],
   "source": [
    "y_pred_prob = lr.predict_proba(X_test)[::,1]\n",
    "fpr, tpr, _ = metrics.roc_curve(y_test,  y_pred_prob)\n",
    "auc = metrics.roc_auc_score(y_test, y_pred_prob)\n",
    "plt.plot(fpr,tpr,label=\"data 1, auc=\"+str(auc))\n",
    "plt.legend(loc=4)\n",
    "plt.show()"
   ]
  },
  {
   "cell_type": "markdown",
   "id": "4d8d33e7",
   "metadata": {},
   "source": [
    "Creating a function to evaluate models and print the metric scores below "
   ]
  },
  {
   "cell_type": "code",
   "execution_count": 47,
   "id": "0ba0c93b",
   "metadata": {},
   "outputs": [],
   "source": [
    "dtc = DecisionTreeClassifier(criterion=\"entropy\", max_depth=4)\n",
    "knn = KNeighborsClassifier(n_neighbors=3)\n",
    "svc = SVC(random_state = 48,probability=True)\n",
    "models = {\n",
    "    'knn' : knn,\n",
    "    'DecisionTreeClassifier':dtc,\n",
    "    'SVC' : svc\n",
    "}"
   ]
  },
  {
   "cell_type": "code",
   "execution_count": 48,
   "id": "0b5c2568",
   "metadata": {},
   "outputs": [],
   "source": [
    "def loss(y_true,y_pred, retu=False):\n",
    "    p = precision_score(y_true,y_pred)\n",
    "    r = recall_score(y_true,y_pred)\n",
    "    f = f1_score(y_true,y_pred)\n",
    "    l = log_loss(y_true,y_pred)\n",
    "    a = accuracy_score(y_true,y_pred)\n",
    "    \n",
    "    if retu:\n",
    "        return pre, rec, f1, loss, acc\n",
    "    else:\n",
    "        print('  pre: %.4f\\n  rec: %.4f\\n  f1: %.4f\\n  loss: %.4f\\n  acc: %.4f' % (p, r, f, l, a))"
   ]
  },
  {
   "cell_type": "code",
   "execution_count": 49,
   "id": "46901b09",
   "metadata": {},
   "outputs": [],
   "source": [
    "def evaluate_model(models,X,y):\n",
    "    for name,model in models.items():\n",
    "        print(name, \":\")\n",
    "        model.fit(X,y)\n",
    "        loss(y, model.predict(X))\n",
    "        print(\"-:-:-:-:-\"*5)"
   ]
  },
  {
   "cell_type": "code",
   "execution_count": 50,
   "id": "0e62edbc",
   "metadata": {},
   "outputs": [
    {
     "name": "stdout",
     "output_type": "stream",
     "text": [
      "knn :\n",
      "  pre: 0.8384\n",
      "  rec: 0.9377\n",
      "  f1: 0.8853\n",
      "  loss: 5.8567\n",
      "  acc: 0.8304\n",
      "-:-:-:-:--:-:-:-:--:-:-:-:--:-:-:-:--:-:-:-:-\n",
      "DecisionTreeClassifier :\n",
      "  pre: 0.8283\n",
      "  rec: 0.9470\n",
      "  f1: 0.8837\n",
      "  loss: 6.0069\n",
      "  acc: 0.8261\n",
      "-:-:-:-:--:-:-:-:--:-:-:-:--:-:-:-:--:-:-:-:-\n",
      "SVC :\n",
      "  pre: 0.8017\n",
      "  rec: 0.9065\n",
      "  f1: 0.8509\n",
      "  loss: 7.6587\n",
      "  acc: 0.7783\n",
      "-:-:-:-:--:-:-:-:--:-:-:-:--:-:-:-:--:-:-:-:-\n"
     ]
    }
   ],
   "source": [
    "evaluate_model(models, X_train, y_train)"
   ]
  },
  {
   "cell_type": "markdown",
   "id": "5a853a5a",
   "metadata": {},
   "source": [
    "From the results we can see that KNeighbourClassifier performs well."
   ]
  },
  {
   "cell_type": "code",
   "execution_count": 51,
   "id": "19da8c5c",
   "metadata": {},
   "outputs": [
    {
     "data": {
      "image/png": "[encoded data removed]",
      "text/plain": [
       "<Figure size 432x288 with 1 Axes>"
      ]
     },
     "metadata": {
      "needs_background": "light"
     },
     "output_type": "display_data"
    }
   ],
   "source": [
    "k_pred_prob = knn.predict_proba(X_test)[::,1]\n",
    "fpr, tpr, _ = metrics.roc_curve(y_test,  k_pred_prob)\n",
    "auc = metrics.roc_auc_score(y_test, k_pred_prob)\n",
    "plt.plot(fpr,tpr,label=\"data 1, auc=\"+str(auc))\n",
    "plt.legend(loc=4)\n",
    "plt.show()"
   ]
  },
  {
   "cell_type": "code",
   "execution_count": 52,
   "id": "135edb37",
   "metadata": {},
   "outputs": [
    {
     "data": {
      "image/png": "[encoded data removed]",
      "text/plain": [
       "<Figure size 432x288 with 1 Axes>"
      ]
     },
     "metadata": {
      "needs_background": "light"
     },
     "output_type": "display_data"
    }
   ],
   "source": [
    "d_pred_prob = dtc.predict_proba(X_test)[::,1]\n",
    "fpr, tpr, _ = metrics.roc_curve(y_test,  d_pred_prob)\n",
    "auc = metrics.roc_auc_score(y_test, d_pred_prob)\n",
    "plt.plot(fpr,tpr,label=\"data 1, auc=\"+str(auc))\n",
    "plt.legend(loc=4)\n",
    "plt.show()"
   ]
  },
  {
   "cell_type": "code",
   "execution_count": 53,
   "id": "0bf8ef0b",
   "metadata": {},
   "outputs": [
    {
     "data": {
      "image/png": "[encoded data removed]",
      "text/plain": [
       "<Figure size 432x288 with 1 Axes>"
      ]
     },
     "metadata": {
      "needs_background": "light"
     },
     "output_type": "display_data"
    }
   ],
   "source": [
    "s_pred_prob = svc.predict_proba(X_test)[::,1]\n",
    "fpr, tpr, _ = metrics.roc_curve(y_test,  s_pred_prob)\n",
    "auc = metrics.roc_auc_score(y_test, s_pred_prob)\n",
    "plt.plot(fpr,tpr,label=\"data 1, auc=\"+str(auc))\n",
    "plt.legend(loc=4)\n",
    "plt.show()"
   ]
  },
  {
   "cell_type": "code",
   "execution_count": null,
   "id": "15332254",
   "metadata": {},
   "outputs": [],
   "source": []
  }
 ],
 "metadata": {
  "kernelspec": {
   "display_name": "Python 3",
   "language": "python",
   "name": "python3"
  },
  "language_info": {
   "codemirror_mode": {
    "name": "ipython",
    "version": 3
   },
   "file_extension": ".py",
   "mimetype": "text/x-python",
   "name": "python",
   "nbconvert_exporter": "python",
   "pygments_lexer": "ipython3",
   "version": "3.8.8"
  }
 },
 "nbformat": 4,
 "nbformat_minor": 5
}
