{
 "cells": [
  {
   "cell_type": "code",
   "execution_count": 117,
   "id": "962b93c2",
   "metadata": {},
   "outputs": [],
   "source": [
    "import pandas as pd\n",
    "import numpy as np\n",
    "import matplotlib.pyplot as plt\n",
    "import seaborn as sns"
   ]
  },
  {
   "cell_type": "code",
   "execution_count": 118,
   "id": "56d5fcb0",
   "metadata": {},
   "outputs": [
    {
     "data": {
      "text/plain": [
       "emp_title                            833\n",
       "emp_length                           817\n",
       "state                                  0\n",
       "homeownership                          0\n",
       "annual_income                          0\n",
       "verified_income                        0\n",
       "debt_to_income                        24\n",
       "annual_income_joint                 8505\n",
       "verification_income_joint           8545\n",
       "debt_to_income_joint                8505\n",
       "delinq_2y                              0\n",
       "months_since_last_delinq            5658\n",
       "earliest_credit_line                   0\n",
       "inquiries_last_12m                     0\n",
       "total_credit_lines                     0\n",
       "open_credit_lines                      0\n",
       "total_credit_limit                     0\n",
       "total_credit_utilized                  0\n",
       "num_collections_last_12m               0\n",
       "num_historical_failed_to_pay           0\n",
       "months_since_90d_late               7715\n",
       "current_accounts_delinq                0\n",
       "total_collection_amount_ever           0\n",
       "current_installment_accounts           0\n",
       "accounts_opened_24m                    0\n",
       "months_since_last_credit_inquiry    1271\n",
       "num_satisfactory_accounts              0\n",
       "num_accounts_120d_past_due           318\n",
       "num_accounts_30d_past_due              0\n",
       "num_active_debit_accounts              0\n",
       "total_debit_limit                      0\n",
       "num_total_cc_accounts                  0\n",
       "num_open_cc_accounts                   0\n",
       "num_cc_carrying_balance                0\n",
       "num_mort_accounts                      0\n",
       "account_never_delinq_percent           0\n",
       "tax_liens                              0\n",
       "public_record_bankrupt                 0\n",
       "loan_purpose                           0\n",
       "application_type                       0\n",
       "loan_amount                            0\n",
       "term                                   0\n",
       "interest_rate                          0\n",
       "installment                            0\n",
       "grade                                  0\n",
       "sub_grade                              0\n",
       "issue_month                            0\n",
       "loan_status                            0\n",
       "initial_listing_status                 0\n",
       "disbursement_method                    0\n",
       "balance                                0\n",
       "paid_total                             0\n",
       "paid_principal                         0\n",
       "paid_interest                          0\n",
       "paid_late_fees                         0\n",
       "dtype: int64"
      ]
     },
     "execution_count": 118,
     "metadata": {},
     "output_type": "execute_result"
    }
   ],
   "source": [
    "df = pd.read_csv('loans_full_schema.csv')\n",
    "df.isna().sum()"
   ]
  },
  {
   "cell_type": "code",
   "execution_count": 119,
   "id": "abea4cb4",
   "metadata": {},
   "outputs": [],
   "source": [
    "df_new = df.drop(['annual_income_joint','verification_income_joint','debt_to_income_joint','tax_liens',\n",
    "                  'initial_listing_status','disbursement_method','sub_grade','months_since_last_credit_inquiry','months_since_last_delinq'],axis=1)\n"
   ]
  },
  {
   "cell_type": "code",
   "execution_count": 120,
   "id": "912a5a6c",
   "metadata": {},
   "outputs": [],
   "source": [
    "df_new = df_new.replace(np.nan,0)"
   ]
  },
  {
   "cell_type": "code",
   "execution_count": 121,
   "id": "7a2a39b2",
   "metadata": {
    "scrolled": true
   },
   "outputs": [
    {
     "data": {
      "text/plain": [
       "emp_title                       0\n",
       "emp_length                      0\n",
       "state                           0\n",
       "homeownership                   0\n",
       "annual_income                   0\n",
       "verified_income                 0\n",
       "debt_to_income                  0\n",
       "delinq_2y                       0\n",
       "earliest_credit_line            0\n",
       "inquiries_last_12m              0\n",
       "total_credit_lines              0\n",
       "open_credit_lines               0\n",
       "total_credit_limit              0\n",
       "total_credit_utilized           0\n",
       "num_collections_last_12m        0\n",
       "num_historical_failed_to_pay    0\n",
       "months_since_90d_late           0\n",
       "current_accounts_delinq         0\n",
       "total_collection_amount_ever    0\n",
       "current_installment_accounts    0\n",
       "accounts_opened_24m             0\n",
       "num_satisfactory_accounts       0\n",
       "num_accounts_120d_past_due      0\n",
       "num_accounts_30d_past_due       0\n",
       "num_active_debit_accounts       0\n",
       "total_debit_limit               0\n",
       "num_total_cc_accounts           0\n",
       "num_open_cc_accounts            0\n",
       "num_cc_carrying_balance         0\n",
       "num_mort_accounts               0\n",
       "account_never_delinq_percent    0\n",
       "public_record_bankrupt          0\n",
       "loan_purpose                    0\n",
       "application_type                0\n",
       "loan_amount                     0\n",
       "term                            0\n",
       "interest_rate                   0\n",
       "installment                     0\n",
       "grade                           0\n",
       "issue_month                     0\n",
       "loan_status                     0\n",
       "balance                         0\n",
       "paid_total                      0\n",
       "paid_principal                  0\n",
       "paid_interest                   0\n",
       "paid_late_fees                  0\n",
       "dtype: int64"
      ]
     },
     "execution_count": 121,
     "metadata": {},
     "output_type": "execute_result"
    }
   ],
   "source": [
    "df_new.isna().sum()\n"
   ]
  },
  {
   "cell_type": "code",
   "execution_count": 122,
   "id": "6a6f1d2a",
   "metadata": {},
   "outputs": [
    {
     "data": {
      "text/html": [
       "<div>\n",
       "<style scoped>\n",
       "    .dataframe tbody tr th:only-of-type {\n",
       "        vertical-align: middle;\n",
       "    }\n",
       "\n",
       "    .dataframe tbody tr th {\n",
       "        vertical-align: top;\n",
       "    }\n",
       "\n",
       "    .dataframe thead th {\n",
       "        text-align: right;\n",
       "    }\n",
       "</style>\n",
       "<table border=\"1\" class=\"dataframe\">\n",
       "  <thead>\n",
       "    <tr style=\"text-align: right;\">\n",
       "      <th></th>\n",
       "      <th>emp_title</th>\n",
       "      <th>emp_length</th>\n",
       "      <th>state</th>\n",
       "      <th>homeownership</th>\n",
       "      <th>annual_income</th>\n",
       "      <th>verified_income</th>\n",
       "      <th>debt_to_income</th>\n",
       "      <th>delinq_2y</th>\n",
       "      <th>earliest_credit_line</th>\n",
       "      <th>inquiries_last_12m</th>\n",
       "      <th>...</th>\n",
       "      <th>interest_rate</th>\n",
       "      <th>installment</th>\n",
       "      <th>grade</th>\n",
       "      <th>issue_month</th>\n",
       "      <th>loan_status</th>\n",
       "      <th>balance</th>\n",
       "      <th>paid_total</th>\n",
       "      <th>paid_principal</th>\n",
       "      <th>paid_interest</th>\n",
       "      <th>paid_late_fees</th>\n",
       "    </tr>\n",
       "  </thead>\n",
       "  <tbody>\n",
       "    <tr>\n",
       "      <th>0</th>\n",
       "      <td>global config engineer</td>\n",
       "      <td>3.0</td>\n",
       "      <td>NJ</td>\n",
       "      <td>MORTGAGE</td>\n",
       "      <td>90000.0</td>\n",
       "      <td>Verified</td>\n",
       "      <td>18.01</td>\n",
       "      <td>0</td>\n",
       "      <td>2001</td>\n",
       "      <td>6</td>\n",
       "      <td>...</td>\n",
       "      <td>14.07</td>\n",
       "      <td>652.53</td>\n",
       "      <td>C</td>\n",
       "      <td>Mar-2018</td>\n",
       "      <td>Current</td>\n",
       "      <td>27015.86</td>\n",
       "      <td>1999.33</td>\n",
       "      <td>984.14</td>\n",
       "      <td>1015.19</td>\n",
       "      <td>0.0</td>\n",
       "    </tr>\n",
       "    <tr>\n",
       "      <th>1</th>\n",
       "      <td>warehouse office clerk</td>\n",
       "      <td>10.0</td>\n",
       "      <td>HI</td>\n",
       "      <td>RENT</td>\n",
       "      <td>40000.0</td>\n",
       "      <td>Not Verified</td>\n",
       "      <td>5.04</td>\n",
       "      <td>0</td>\n",
       "      <td>1996</td>\n",
       "      <td>1</td>\n",
       "      <td>...</td>\n",
       "      <td>12.61</td>\n",
       "      <td>167.54</td>\n",
       "      <td>C</td>\n",
       "      <td>Feb-2018</td>\n",
       "      <td>Current</td>\n",
       "      <td>4651.37</td>\n",
       "      <td>499.12</td>\n",
       "      <td>348.63</td>\n",
       "      <td>150.49</td>\n",
       "      <td>0.0</td>\n",
       "    </tr>\n",
       "    <tr>\n",
       "      <th>2</th>\n",
       "      <td>assembly</td>\n",
       "      <td>3.0</td>\n",
       "      <td>WI</td>\n",
       "      <td>RENT</td>\n",
       "      <td>40000.0</td>\n",
       "      <td>Source Verified</td>\n",
       "      <td>21.15</td>\n",
       "      <td>0</td>\n",
       "      <td>2006</td>\n",
       "      <td>4</td>\n",
       "      <td>...</td>\n",
       "      <td>17.09</td>\n",
       "      <td>71.40</td>\n",
       "      <td>D</td>\n",
       "      <td>Feb-2018</td>\n",
       "      <td>Current</td>\n",
       "      <td>1824.63</td>\n",
       "      <td>281.80</td>\n",
       "      <td>175.37</td>\n",
       "      <td>106.43</td>\n",
       "      <td>0.0</td>\n",
       "    </tr>\n",
       "    <tr>\n",
       "      <th>3</th>\n",
       "      <td>customer service</td>\n",
       "      <td>1.0</td>\n",
       "      <td>PA</td>\n",
       "      <td>RENT</td>\n",
       "      <td>30000.0</td>\n",
       "      <td>Not Verified</td>\n",
       "      <td>10.16</td>\n",
       "      <td>0</td>\n",
       "      <td>2007</td>\n",
       "      <td>0</td>\n",
       "      <td>...</td>\n",
       "      <td>6.72</td>\n",
       "      <td>664.19</td>\n",
       "      <td>A</td>\n",
       "      <td>Jan-2018</td>\n",
       "      <td>Current</td>\n",
       "      <td>18853.26</td>\n",
       "      <td>3312.89</td>\n",
       "      <td>2746.74</td>\n",
       "      <td>566.15</td>\n",
       "      <td>0.0</td>\n",
       "    </tr>\n",
       "    <tr>\n",
       "      <th>4</th>\n",
       "      <td>security supervisor</td>\n",
       "      <td>10.0</td>\n",
       "      <td>CA</td>\n",
       "      <td>RENT</td>\n",
       "      <td>35000.0</td>\n",
       "      <td>Verified</td>\n",
       "      <td>57.96</td>\n",
       "      <td>0</td>\n",
       "      <td>2008</td>\n",
       "      <td>7</td>\n",
       "      <td>...</td>\n",
       "      <td>14.07</td>\n",
       "      <td>786.87</td>\n",
       "      <td>C</td>\n",
       "      <td>Mar-2018</td>\n",
       "      <td>Current</td>\n",
       "      <td>21430.15</td>\n",
       "      <td>2324.65</td>\n",
       "      <td>1569.85</td>\n",
       "      <td>754.80</td>\n",
       "      <td>0.0</td>\n",
       "    </tr>\n",
       "  </tbody>\n",
       "</table>\n",
       "<p>5 rows × 46 columns</p>\n",
       "</div>"
      ],
      "text/plain": [
       "                 emp_title  emp_length state homeownership  annual_income  \\\n",
       "0  global config engineer          3.0    NJ      MORTGAGE        90000.0   \n",
       "1   warehouse office clerk        10.0    HI          RENT        40000.0   \n",
       "2                 assembly         3.0    WI          RENT        40000.0   \n",
       "3         customer service         1.0    PA          RENT        30000.0   \n",
       "4     security supervisor         10.0    CA          RENT        35000.0   \n",
       "\n",
       "   verified_income  debt_to_income  delinq_2y  earliest_credit_line  \\\n",
       "0         Verified           18.01          0                  2001   \n",
       "1     Not Verified            5.04          0                  1996   \n",
       "2  Source Verified           21.15          0                  2006   \n",
       "3     Not Verified           10.16          0                  2007   \n",
       "4         Verified           57.96          0                  2008   \n",
       "\n",
       "   inquiries_last_12m  ...  interest_rate  installment  grade  issue_month  \\\n",
       "0                   6  ...          14.07       652.53      C     Mar-2018   \n",
       "1                   1  ...          12.61       167.54      C     Feb-2018   \n",
       "2                   4  ...          17.09        71.40      D     Feb-2018   \n",
       "3                   0  ...           6.72       664.19      A     Jan-2018   \n",
       "4                   7  ...          14.07       786.87      C     Mar-2018   \n",
       "\n",
       "   loan_status   balance  paid_total  paid_principal  paid_interest  \\\n",
       "0      Current  27015.86     1999.33          984.14        1015.19   \n",
       "1      Current   4651.37      499.12          348.63         150.49   \n",
       "2      Current   1824.63      281.80          175.37         106.43   \n",
       "3      Current  18853.26     3312.89         2746.74         566.15   \n",
       "4      Current  21430.15     2324.65         1569.85         754.80   \n",
       "\n",
       "   paid_late_fees  \n",
       "0             0.0  \n",
       "1             0.0  \n",
       "2             0.0  \n",
       "3             0.0  \n",
       "4             0.0  \n",
       "\n",
       "[5 rows x 46 columns]"
      ]
     },
     "execution_count": 122,
     "metadata": {},
     "output_type": "execute_result"
    }
   ],
   "source": [
    "df_new.head()"
   ]
  },
  {
   "cell_type": "code",
   "execution_count": 123,
   "id": "d9069653",
   "metadata": {},
   "outputs": [
    {
     "data": {
      "text/plain": [
       "emp_title                       4742\n",
       "emp_length                        11\n",
       "state                             50\n",
       "homeownership                      3\n",
       "annual_income                   1463\n",
       "verified_income                    3\n",
       "debt_to_income                  3673\n",
       "delinq_2y                         12\n",
       "earliest_credit_line              53\n",
       "inquiries_last_12m                26\n",
       "total_credit_lines                78\n",
       "open_credit_lines                 45\n",
       "total_credit_limit              9119\n",
       "total_credit_utilized           9497\n",
       "num_collections_last_12m           4\n",
       "num_historical_failed_to_pay       9\n",
       "months_since_90d_late            107\n",
       "current_accounts_delinq            2\n",
       "total_collection_amount_ever     896\n",
       "current_installment_accounts      30\n",
       "accounts_opened_24m               26\n",
       "num_satisfactory_accounts         45\n",
       "num_accounts_120d_past_due         1\n",
       "num_accounts_30d_past_due          2\n",
       "num_active_debit_accounts         25\n",
       "total_debit_limit               1222\n",
       "num_total_cc_accounts             56\n",
       "num_open_cc_accounts              40\n",
       "num_cc_carrying_balance           30\n",
       "num_mort_accounts                 15\n",
       "account_never_delinq_percent     282\n",
       "public_record_bankrupt             4\n",
       "loan_purpose                      12\n",
       "application_type                   2\n",
       "loan_amount                      612\n",
       "term                               2\n",
       "interest_rate                     58\n",
       "installment                     3540\n",
       "grade                              7\n",
       "issue_month                        3\n",
       "loan_status                        6\n",
       "balance                         5741\n",
       "paid_total                      7475\n",
       "paid_principal                  5765\n",
       "paid_interest                   7422\n",
       "paid_late_fees                    29\n",
       "dtype: int64"
      ]
     },
     "execution_count": 123,
     "metadata": {},
     "output_type": "execute_result"
    }
   ],
   "source": [
    "df_new.nunique()"
   ]
  },
  {
   "cell_type": "code",
   "execution_count": null,
   "id": "041a0b4e",
   "metadata": {},
   "outputs": [],
   "source": []
  },
  {
   "cell_type": "code",
   "execution_count": 124,
   "id": "8c15f645",
   "metadata": {},
   "outputs": [],
   "source": [
    "new_data = df_new.drop(['total_collection_amount_ever','state', 'earliest_credit_line', 'months_since_90d_late','num_mort_accounts', \n",
    "'account_never_delinq_percent','application_type','paid_late_fees','paid_interest', 'paid_principal'],axis=1)\n"
   ]
  },
  {
   "cell_type": "code",
   "execution_count": 129,
   "id": "b8f0bfeb",
   "metadata": {},
   "outputs": [
    {
     "data": {
      "text/html": [
       "<div>\n",
       "<style scoped>\n",
       "    .dataframe tbody tr th:only-of-type {\n",
       "        vertical-align: middle;\n",
       "    }\n",
       "\n",
       "    .dataframe tbody tr th {\n",
       "        vertical-align: top;\n",
       "    }\n",
       "\n",
       "    .dataframe thead th {\n",
       "        text-align: right;\n",
       "    }\n",
       "</style>\n",
       "<table border=\"1\" class=\"dataframe\">\n",
       "  <thead>\n",
       "    <tr style=\"text-align: right;\">\n",
       "      <th></th>\n",
       "      <th>emp_title</th>\n",
       "      <th>emp_length</th>\n",
       "      <th>homeownership</th>\n",
       "      <th>annual_income</th>\n",
       "      <th>verified_income</th>\n",
       "      <th>debt_to_income</th>\n",
       "      <th>delinq_2y</th>\n",
       "      <th>inquiries_last_12m</th>\n",
       "      <th>total_credit_lines</th>\n",
       "      <th>open_credit_lines</th>\n",
       "      <th>...</th>\n",
       "      <th>loan_purpose</th>\n",
       "      <th>loan_amount</th>\n",
       "      <th>term</th>\n",
       "      <th>interest_rate</th>\n",
       "      <th>installment</th>\n",
       "      <th>grade</th>\n",
       "      <th>issue_month</th>\n",
       "      <th>loan_status</th>\n",
       "      <th>balance</th>\n",
       "      <th>paid_total</th>\n",
       "    </tr>\n",
       "  </thead>\n",
       "  <tbody>\n",
       "    <tr>\n",
       "      <th>0</th>\n",
       "      <td>global config engineer</td>\n",
       "      <td>3.0</td>\n",
       "      <td>MORTGAGE</td>\n",
       "      <td>90000.0</td>\n",
       "      <td>Verified</td>\n",
       "      <td>18.01</td>\n",
       "      <td>0</td>\n",
       "      <td>6</td>\n",
       "      <td>28</td>\n",
       "      <td>10</td>\n",
       "      <td>...</td>\n",
       "      <td>moving</td>\n",
       "      <td>28000</td>\n",
       "      <td>60</td>\n",
       "      <td>14.07</td>\n",
       "      <td>652.53</td>\n",
       "      <td>C</td>\n",
       "      <td>Mar-2018</td>\n",
       "      <td>Current</td>\n",
       "      <td>27015.86</td>\n",
       "      <td>1999.33</td>\n",
       "    </tr>\n",
       "    <tr>\n",
       "      <th>1</th>\n",
       "      <td>warehouse office clerk</td>\n",
       "      <td>10.0</td>\n",
       "      <td>RENT</td>\n",
       "      <td>40000.0</td>\n",
       "      <td>Not Verified</td>\n",
       "      <td>5.04</td>\n",
       "      <td>0</td>\n",
       "      <td>1</td>\n",
       "      <td>30</td>\n",
       "      <td>14</td>\n",
       "      <td>...</td>\n",
       "      <td>debt_consolidation</td>\n",
       "      <td>5000</td>\n",
       "      <td>36</td>\n",
       "      <td>12.61</td>\n",
       "      <td>167.54</td>\n",
       "      <td>C</td>\n",
       "      <td>Feb-2018</td>\n",
       "      <td>Current</td>\n",
       "      <td>4651.37</td>\n",
       "      <td>499.12</td>\n",
       "    </tr>\n",
       "    <tr>\n",
       "      <th>2</th>\n",
       "      <td>assembly</td>\n",
       "      <td>3.0</td>\n",
       "      <td>RENT</td>\n",
       "      <td>40000.0</td>\n",
       "      <td>Source Verified</td>\n",
       "      <td>21.15</td>\n",
       "      <td>0</td>\n",
       "      <td>4</td>\n",
       "      <td>31</td>\n",
       "      <td>10</td>\n",
       "      <td>...</td>\n",
       "      <td>other</td>\n",
       "      <td>2000</td>\n",
       "      <td>36</td>\n",
       "      <td>17.09</td>\n",
       "      <td>71.40</td>\n",
       "      <td>D</td>\n",
       "      <td>Feb-2018</td>\n",
       "      <td>Current</td>\n",
       "      <td>1824.63</td>\n",
       "      <td>281.80</td>\n",
       "    </tr>\n",
       "    <tr>\n",
       "      <th>3</th>\n",
       "      <td>customer service</td>\n",
       "      <td>1.0</td>\n",
       "      <td>RENT</td>\n",
       "      <td>30000.0</td>\n",
       "      <td>Not Verified</td>\n",
       "      <td>10.16</td>\n",
       "      <td>0</td>\n",
       "      <td>0</td>\n",
       "      <td>4</td>\n",
       "      <td>4</td>\n",
       "      <td>...</td>\n",
       "      <td>debt_consolidation</td>\n",
       "      <td>21600</td>\n",
       "      <td>36</td>\n",
       "      <td>6.72</td>\n",
       "      <td>664.19</td>\n",
       "      <td>A</td>\n",
       "      <td>Jan-2018</td>\n",
       "      <td>Current</td>\n",
       "      <td>18853.26</td>\n",
       "      <td>3312.89</td>\n",
       "    </tr>\n",
       "    <tr>\n",
       "      <th>4</th>\n",
       "      <td>security supervisor</td>\n",
       "      <td>10.0</td>\n",
       "      <td>RENT</td>\n",
       "      <td>35000.0</td>\n",
       "      <td>Verified</td>\n",
       "      <td>57.96</td>\n",
       "      <td>0</td>\n",
       "      <td>7</td>\n",
       "      <td>22</td>\n",
       "      <td>16</td>\n",
       "      <td>...</td>\n",
       "      <td>credit_card</td>\n",
       "      <td>23000</td>\n",
       "      <td>36</td>\n",
       "      <td>14.07</td>\n",
       "      <td>786.87</td>\n",
       "      <td>C</td>\n",
       "      <td>Mar-2018</td>\n",
       "      <td>Current</td>\n",
       "      <td>21430.15</td>\n",
       "      <td>2324.65</td>\n",
       "    </tr>\n",
       "  </tbody>\n",
       "</table>\n",
       "<p>5 rows × 36 columns</p>\n",
       "</div>"
      ],
      "text/plain": [
       "                 emp_title  emp_length homeownership  annual_income  \\\n",
       "0  global config engineer          3.0      MORTGAGE        90000.0   \n",
       "1   warehouse office clerk        10.0          RENT        40000.0   \n",
       "2                 assembly         3.0          RENT        40000.0   \n",
       "3         customer service         1.0          RENT        30000.0   \n",
       "4     security supervisor         10.0          RENT        35000.0   \n",
       "\n",
       "   verified_income  debt_to_income  delinq_2y  inquiries_last_12m  \\\n",
       "0         Verified           18.01          0                   6   \n",
       "1     Not Verified            5.04          0                   1   \n",
       "2  Source Verified           21.15          0                   4   \n",
       "3     Not Verified           10.16          0                   0   \n",
       "4         Verified           57.96          0                   7   \n",
       "\n",
       "   total_credit_lines  open_credit_lines  ...        loan_purpose  \\\n",
       "0                  28                 10  ...              moving   \n",
       "1                  30                 14  ...  debt_consolidation   \n",
       "2                  31                 10  ...               other   \n",
       "3                   4                  4  ...  debt_consolidation   \n",
       "4                  22                 16  ...         credit_card   \n",
       "\n",
       "   loan_amount  term  interest_rate  installment  grade  issue_month  \\\n",
       "0        28000    60          14.07       652.53      C     Mar-2018   \n",
       "1         5000    36          12.61       167.54      C     Feb-2018   \n",
       "2         2000    36          17.09        71.40      D     Feb-2018   \n",
       "3        21600    36           6.72       664.19      A     Jan-2018   \n",
       "4        23000    36          14.07       786.87      C     Mar-2018   \n",
       "\n",
       "   loan_status   balance  paid_total  \n",
       "0      Current  27015.86     1999.33  \n",
       "1      Current   4651.37      499.12  \n",
       "2      Current   1824.63      281.80  \n",
       "3      Current  18853.26     3312.89  \n",
       "4      Current  21430.15     2324.65  \n",
       "\n",
       "[5 rows x 36 columns]"
      ]
     },
     "execution_count": 129,
     "metadata": {},
     "output_type": "execute_result"
    }
   ],
   "source": [
    "new_data.head()"
   ]
  },
  {
   "cell_type": "code",
   "execution_count": 135,
   "id": "17fef044",
   "metadata": {},
   "outputs": [],
   "source": [
    "nwd = new_data.corr()"
   ]
  },
  {
   "cell_type": "code",
   "execution_count": 139,
   "id": "eaaf64e6",
   "metadata": {},
   "outputs": [
    {
     "data": {
      "text/plain": [
       "<AxesSubplot:>"
      ]
     },
     "execution_count": 139,
     "metadata": {},
     "output_type": "execute_result"
    },
    {
     "data": {
      "image/png": "[encoded data removed]",
      "text/plain": [
       "<Figure size 720x720 with 2 Axes>"
      ]
     },
     "metadata": {
      "needs_background": "light"
     },
     "output_type": "display_data"
    }
   ],
   "source": [
    "fig, ax = plt.subplots(figsize=(10,10))\n",
    "sns.heatmap(nwd,cmap=\"YlGnBu\",robust=True)"
   ]
  },
  {
   "cell_type": "code",
   "execution_count": 152,
   "id": "ee93f96d",
   "metadata": {},
   "outputs": [
    {
     "data": {
      "image/png": "[encoded data removed]",
      "text/plain": [
       "<Figure size 432x288 with 1 Axes>"
      ]
     },
     "metadata": {
      "needs_background": "light"
     },
     "output_type": "display_data"
    }
   ],
   "source": [
    "plt.hist(new_data['interest_rate'],bins=50)\n",
    "plt.xlabel('Interest rate')\n",
    "plt.ylabel('Probability density')\n",
    "plt.show()"
   ]
  },
  {
   "cell_type": "code",
   "execution_count": 153,
   "id": "2225ec90",
   "metadata": {},
   "outputs": [
    {
     "data": {
      "image/png": "[encoded data removed]",
      "text/plain": [
       "<Figure size 432x288 with 1 Axes>"
      ]
     },
     "metadata": {
      "needs_background": "light"
     },
     "output_type": "display_data"
    }
   ],
   "source": [
    "plt.hist(new_data['balance'],bins=50)\n",
    "plt.xlabel('balance')\n",
    "plt.ylabel('Probability density')\n",
    "plt.show()"
   ]
  },
  {
   "cell_type": "code",
   "execution_count": 155,
   "id": "2202e96d",
   "metadata": {},
   "outputs": [
    {
     "data": {
      "image/png": "[encoded data removed]",
      "text/plain": [
       "<Figure size 432x288 with 1 Axes>"
      ]
     },
     "metadata": {
      "needs_background": "light"
     },
     "output_type": "display_data"
    }
   ],
   "source": [
    "plt.hist(new_data['loan_amount'],bins=50)\n",
    "plt.xlabel('loan_amount')\n",
    "plt.ylabel('Probability density')\n",
    "plt.show()"
   ]
  },
  {
   "cell_type": "code",
   "execution_count": 156,
   "id": "c2e2c8cc",
   "metadata": {},
   "outputs": [
    {
     "data": {
      "image/png": "[encoded data removed]",
      "text/plain": [
       "<Figure size 432x288 with 1 Axes>"
      ]
     },
     "metadata": {
      "needs_background": "light"
     },
     "output_type": "display_data"
    }
   ],
   "source": [
    "plt.hist(new_data['paid_total'],bins=50)\n",
    "plt.xlabel('paid_debt')\n",
    "plt.ylabel('Probability density')\n",
    "plt.show()"
   ]
  },
  {
   "cell_type": "code",
   "execution_count": 157,
   "id": "2793722d",
   "metadata": {},
   "outputs": [
    {
     "data": {
      "text/plain": [
       "163619225"
      ]
     },
     "execution_count": 157,
     "metadata": {},
     "output_type": "execute_result"
    }
   ],
   "source": [
    "new_data['loan_amount'].sum()"
   ]
  },
  {
   "cell_type": "code",
   "execution_count": 159,
   "id": "82576438",
   "metadata": {},
   "outputs": [
    {
     "data": {
      "text/plain": [
       "24942347.733001955"
      ]
     },
     "execution_count": 159,
     "metadata": {},
     "output_type": "execute_result"
    }
   ],
   "source": [
    "new_data['paid_total'].sum()"
   ]
  },
  {
   "cell_type": "code",
   "execution_count": 160,
   "id": "566f53f2",
   "metadata": {},
   "outputs": [
    {
     "data": {
      "text/plain": [
       "144589166.1"
      ]
     },
     "execution_count": 160,
     "metadata": {},
     "output_type": "execute_result"
    }
   ],
   "source": [
    "new_data['balance'].sum()"
   ]
  },
  {
   "cell_type": "code",
   "execution_count": 166,
   "id": "d77ebb29",
   "metadata": {},
   "outputs": [
    {
     "name": "stdout",
     "output_type": "stream",
     "text": [
      "0       28000\n",
      "1        5000\n",
      "2        2000\n",
      "3       21600\n",
      "4       23000\n",
      "        ...  \n",
      "9995    24000\n",
      "9996    10000\n",
      "9997    30000\n",
      "9998    24000\n",
      "9999    12800\n",
      "Name: loan_amount, Length: 10000, dtype: int64 0       27015.86\n",
      "1        4651.37\n",
      "2        1824.63\n",
      "3       18853.26\n",
      "4       21430.15\n",
      "          ...   \n",
      "9995    21586.34\n",
      "9996     9147.44\n",
      "9997    27617.65\n",
      "9998    21518.12\n",
      "9999    11574.83\n",
      "Name: balance, Length: 10000, dtype: float64 0       1999.33\n",
      "1        499.12\n",
      "2        281.80\n",
      "3       3312.89\n",
      "4       2324.65\n",
      "         ...   \n",
      "9995    2969.80\n",
      "9996    1456.31\n",
      "9997    4620.80\n",
      "9998    2873.31\n",
      "9999    1658.56\n",
      "Name: paid_total, Length: 10000, dtype: float64\n"
     ]
    }
   ],
   "source": [
    "print(new_data['loan_amount'],new_data['balance'],new_data['paid_total'])"
   ]
  },
  {
   "cell_type": "code",
   "execution_count": 170,
   "id": "282ed939",
   "metadata": {},
   "outputs": [
    {
     "data": {
      "image/png": "[encoded data removed]",
      "text/plain": [
       "<Figure size 432x288 with 1 Axes>"
      ]
     },
     "metadata": {
      "needs_background": "light"
     },
     "output_type": "display_data"
    }
   ],
   "source": [
    "plt.hist(new_data['num_active_debit_accounts'],bins=50)\n",
    "plt.xlabel(' number of active debit accounts ')\n",
    "plt.ylabel('Probability density')\n",
    "plt.show()"
   ]
  },
  {
   "cell_type": "code",
   "execution_count": 174,
   "id": "8276cdff",
   "metadata": {},
   "outputs": [
    {
     "data": {
      "image/png": "[encoded data removed]",
      "text/plain": [
       "<Figure size 432x288 with 1 Axes>"
      ]
     },
     "metadata": {
      "needs_background": "light"
     },
     "output_type": "display_data"
    }
   ],
   "source": [
    "plt.hist(new_data['num_satisfactory_accounts'],bins=50)\n",
    "plt.xlabel(' number of satisfactory accounts ')\n",
    "plt.ylabel('Probability density')\n",
    "plt.show()"
   ]
  },
  {
   "cell_type": "code",
   "execution_count": 179,
   "id": "d791e61e",
   "metadata": {},
   "outputs": [
    {
     "data": {
      "image/png": "[encoded data removed]",
      "text/plain": [
       "<Figure size 432x288 with 1 Axes>"
      ]
     },
     "metadata": {
      "needs_background": "light"
     },
     "output_type": "display_data"
    }
   ],
   "source": []
  },
  {
   "cell_type": "code",
   "execution_count": null,
   "id": "8249d387",
   "metadata": {},
   "outputs": [],
   "source": []
  }
 ],
 "metadata": {
  "kernelspec": {
   "display_name": "Python 3",
   "language": "python",
   "name": "python3"
  },
  "language_info": {
   "codemirror_mode": {
    "name": "ipython",
    "version": 3
   },
   "file_extension": ".py",
   "mimetype": "text/x-python",
   "name": "python",
   "nbconvert_exporter": "python",
   "pygments_lexer": "ipython3",
   "version": "3.8.8"
  }
 },
 "nbformat": 4,
 "nbformat_minor": 5
}
